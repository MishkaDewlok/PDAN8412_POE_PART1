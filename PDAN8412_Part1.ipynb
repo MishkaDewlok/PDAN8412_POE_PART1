{
  "nbformat": 4,
  "nbformat_minor": 0,
  "metadata": {
    "colab": {
      "provenance": [],
      "gpuType": "T4",
      "authorship_tag": "ABX9TyO0OGyVGP8BVlbxqLuOozpn",
      "include_colab_link": true
    },
    "kernelspec": {
      "name": "python3",
      "display_name": "Python 3"
    },
    "language_info": {
      "name": "python"
    },
    "accelerator": "GPU"
  },
  "cells": [
    {
      "cell_type": "markdown",
      "metadata": {
        "id": "view-in-github",
        "colab_type": "text"
      },
      "source": [
        "<a href=\"https://colab.research.google.com/github/MishkaDewlok/PDAN8412_POE_PART1/blob/main/PDAN8412_Part1.ipynb\" target=\"_parent\"><img src=\"https://colab.research.google.com/assets/colab-badge.svg\" alt=\"Open In Colab\"/></a>"
      ]
    },
    {
      "cell_type": "markdown",
      "source": [
        "Mishka Dewlok\n",
        "\n",
        "ST10219921\n",
        "\n",
        "PDAN8412 POE - PART 1\n",
        "\n",
        "Dataset sourced from Kaggle at: https://www.kaggle.com/datasets/marufchowdhury/quote-dataset"
      ],
      "metadata": {
        "id": "p6oP3nPAfs7o"
      }
    },
    {
      "cell_type": "markdown",
      "source": [
        "This sets up the environment for the project in Google Colab. It ensures that all the required libraries are installed, upgrades pip, and then imports the necessary Python modules. Finally, it prints out the versions of Spark and TensorFlow so we can confirm that the correct setup is being used."
      ],
      "metadata": {
        "id": "abwtMBDe-y1W"
      }
    },
    {
      "cell_type": "code",
      "execution_count": null,
      "metadata": {
        "colab": {
          "base_uri": "https://localhost:8080/"
        },
        "id": "C6JCY7ibM0qA",
        "outputId": "91bc26de-f821-411f-a449-f3a32cc8e174"
      },
      "outputs": [
        {
          "output_type": "stream",
          "name": "stdout",
          "text": [
            "Versions:\n",
            "Spark: 3.5.1\n",
            "TF: 2.19.0\n"
          ]
        }
      ],
      "source": [
        "# install required packages\n",
        "!pip -q install --upgrade pip\n",
        "!pip -q install kaggle pyspark==3.5.1 scikit-learn matplotlib\n",
        "\n",
        "# import the common Python libraries EDA\n",
        "import os, zipfile, sys, json, random, math, gc, pathlib, re\n",
        "from pathlib import Path\n",
        "import numpy as np, pandas as pd, matplotlib.pyplot as plt\n",
        "\n",
        "#print versions to confirm\n",
        "print(\"Versions:\")\n",
        "import pyspark, sklearn, tensorflow as tf\n",
        "print(\"Spark:\", pyspark.__version__)\n",
        "print(\"TF:\", tf.__version__)\n"
      ]
    },
    {
      "cell_type": "markdown",
      "source": [
        "This sets up Kaggle in Colab and downloads the Quote Dataset being used for this project. After securely installing Kaggle, the dataset is fetched, unzipped and the main CSV file is automatically detected and loaded into a Pandas DataFrame. At this stage, quick dataset checks are performed such as available columns row counts and the number of unique authors.\n",
        "\n",
        "These initial checks form the first step of **Exploratory Data Analysis (EDA)**. They allow for the understanding of the structure of the dataset and confirm it is suitable for this project. Later, further EDA steps (such as removing duplicates, filtering very short quotes,etc) build on this foundation. For now, these steps ensures we start with clean, accessible data first."
      ],
      "metadata": {
        "id": "hdt3bkcf_KwK"
      }
    },
    {
      "cell_type": "code",
      "source": [
        "# handles the Kaggle json file\n",
        "from google.colab import files\n",
        "print(\"Choose your kaggle.json\")\n",
        "uploaded = files.upload()\n",
        "if not uploaded:\n",
        "    raise RuntimeError(\"No file uploaded. Please upload kaggle.json\")\n",
        "\n",
        "uploaded_name = next(iter(uploaded))  # whatever the uploaded file is called\n",
        "home_kaggle = Path.home() / \".kaggle\"\n",
        "home_kaggle.mkdir(parents=True, exist_ok=True)\n",
        "cred_path = home_kaggle / \"kaggle.json\"\n",
        "with open(cred_path, \"wb\") as f:\n",
        "    f.write(uploaded[uploaded_name])\n",
        "os.chmod(cred_path, 0o600)\n",
        "!kaggle --version\n",
        "\n",
        "# Download the quotes dataset\n",
        "DATA_DIR = Path(\"/content/data\")\n",
        "DATA_DIR.mkdir(parents=True, exist_ok=True)\n",
        "\n",
        "!kaggle datasets download -d marufchowdhury/quote-dataset -p {DATA_DIR} -q\n",
        "\n",
        "zip_path = DATA_DIR / \"quote-dataset.zip\"\n",
        "alt_dir = DATA_DIR / \"quote_dataset_alt\"\n",
        "alt_dir.mkdir(parents=True, exist_ok=True)\n",
        "with zipfile.ZipFile(zip_path, \"r\") as z:\n",
        "    z.extractall(alt_dir)\n",
        "\n",
        "print(\"Extracted files:\", [p.name for p in alt_dir.glob(\"*\")])\n",
        "\n",
        "# Pick the CSV automatically, then run some quick stats\n",
        "csvs = sorted(alt_dir.glob(\"*.csv\"))\n",
        "if not csvs:\n",
        "    raise FileNotFoundError(f\"No CSVs found in {alt_dir}.\")\n",
        "cand = csvs[0]\n",
        "print(\"Using CSV:\", cand.name)\n",
        "\n",
        "# Read\n",
        "try:\n",
        "    df_pd = pd.read_csv(cand, encoding=\"utf-8\", engine=\"python\", on_bad_lines=\"skip\")\n",
        "except Exception:\n",
        "    df_pd = pd.read_csv(cand, encoding=\"latin-1\", engine=\"python\", on_bad_lines=\"skip\")\n",
        "\n",
        "print(\"Shape:\", df_pd.shape)\n",
        "print(\"Columns:\", list(df_pd.columns))\n",
        "display(df_pd.head(3))\n",
        "\n",
        "# Quick size checks\n",
        "author_col = \"Author\" if \"Author\" in df_pd.columns else (\"author\" if \"author\" in df_pd.columns else None)\n",
        "print(\"Row count:\", len(df_pd))\n",
        "print(\"Unique authors:\", df_pd[author_col].nunique() if author_col else \"author column not found\")\n"
      ],
      "metadata": {
        "colab": {
          "base_uri": "https://localhost:8080/",
          "height": 449
        },
        "id": "bh-n0owhNhSH",
        "outputId": "521fe3ed-90af-4942-bab7-842ec7880b0d"
      },
      "execution_count": null,
      "outputs": [
        {
          "output_type": "stream",
          "name": "stdout",
          "text": [
            "Choose your kaggle.json\n"
          ]
        },
        {
          "output_type": "display_data",
          "data": {
            "text/plain": [
              "<IPython.core.display.HTML object>"
            ],
            "text/html": [
              "\n",
              "     <input type=\"file\" id=\"files-d0b24257-394b-4d88-806e-ff3cbc6a9cbd\" name=\"files[]\" multiple disabled\n",
              "        style=\"border:none\" />\n",
              "     <output id=\"result-d0b24257-394b-4d88-806e-ff3cbc6a9cbd\">\n",
              "      Upload widget is only available when the cell has been executed in the\n",
              "      current browser session. Please rerun this cell to enable.\n",
              "      </output>\n",
              "      <script>// Copyright 2017 Google LLC\n",
              "//\n",
              "// Licensed under the Apache License, Version 2.0 (the \"License\");\n",
              "// you may not use this file except in compliance with the License.\n",
              "// You may obtain a copy of the License at\n",
              "//\n",
              "//      http://www.apache.org/licenses/LICENSE-2.0\n",
              "//\n",
              "// Unless required by applicable law or agreed to in writing, software\n",
              "// distributed under the License is distributed on an \"AS IS\" BASIS,\n",
              "// WITHOUT WARRANTIES OR CONDITIONS OF ANY KIND, either express or implied.\n",
              "// See the License for the specific language governing permissions and\n",
              "// limitations under the License.\n",
              "\n",
              "/**\n",
              " * @fileoverview Helpers for google.colab Python module.\n",
              " */\n",
              "(function(scope) {\n",
              "function span(text, styleAttributes = {}) {\n",
              "  const element = document.createElement('span');\n",
              "  element.textContent = text;\n",
              "  for (const key of Object.keys(styleAttributes)) {\n",
              "    element.style[key] = styleAttributes[key];\n",
              "  }\n",
              "  return element;\n",
              "}\n",
              "\n",
              "// Max number of bytes which will be uploaded at a time.\n",
              "const MAX_PAYLOAD_SIZE = 100 * 1024;\n",
              "\n",
              "function _uploadFiles(inputId, outputId) {\n",
              "  const steps = uploadFilesStep(inputId, outputId);\n",
              "  const outputElement = document.getElementById(outputId);\n",
              "  // Cache steps on the outputElement to make it available for the next call\n",
              "  // to uploadFilesContinue from Python.\n",
              "  outputElement.steps = steps;\n",
              "\n",
              "  return _uploadFilesContinue(outputId);\n",
              "}\n",
              "\n",
              "// This is roughly an async generator (not supported in the browser yet),\n",
              "// where there are multiple asynchronous steps and the Python side is going\n",
              "// to poll for completion of each step.\n",
              "// This uses a Promise to block the python side on completion of each step,\n",
              "// then passes the result of the previous step as the input to the next step.\n",
              "function _uploadFilesContinue(outputId) {\n",
              "  const outputElement = document.getElementById(outputId);\n",
              "  const steps = outputElement.steps;\n",
              "\n",
              "  const next = steps.next(outputElement.lastPromiseValue);\n",
              "  return Promise.resolve(next.value.promise).then((value) => {\n",
              "    // Cache the last promise value to make it available to the next\n",
              "    // step of the generator.\n",
              "    outputElement.lastPromiseValue = value;\n",
              "    return next.value.response;\n",
              "  });\n",
              "}\n",
              "\n",
              "/**\n",
              " * Generator function which is called between each async step of the upload\n",
              " * process.\n",
              " * @param {string} inputId Element ID of the input file picker element.\n",
              " * @param {string} outputId Element ID of the output display.\n",
              " * @return {!Iterable<!Object>} Iterable of next steps.\n",
              " */\n",
              "function* uploadFilesStep(inputId, outputId) {\n",
              "  const inputElement = document.getElementById(inputId);\n",
              "  inputElement.disabled = false;\n",
              "\n",
              "  const outputElement = document.getElementById(outputId);\n",
              "  outputElement.innerHTML = '';\n",
              "\n",
              "  const pickedPromise = new Promise((resolve) => {\n",
              "    inputElement.addEventListener('change', (e) => {\n",
              "      resolve(e.target.files);\n",
              "    });\n",
              "  });\n",
              "\n",
              "  const cancel = document.createElement('button');\n",
              "  inputElement.parentElement.appendChild(cancel);\n",
              "  cancel.textContent = 'Cancel upload';\n",
              "  const cancelPromise = new Promise((resolve) => {\n",
              "    cancel.onclick = () => {\n",
              "      resolve(null);\n",
              "    };\n",
              "  });\n",
              "\n",
              "  // Wait for the user to pick the files.\n",
              "  const files = yield {\n",
              "    promise: Promise.race([pickedPromise, cancelPromise]),\n",
              "    response: {\n",
              "      action: 'starting',\n",
              "    }\n",
              "  };\n",
              "\n",
              "  cancel.remove();\n",
              "\n",
              "  // Disable the input element since further picks are not allowed.\n",
              "  inputElement.disabled = true;\n",
              "\n",
              "  if (!files) {\n",
              "    return {\n",
              "      response: {\n",
              "        action: 'complete',\n",
              "      }\n",
              "    };\n",
              "  }\n",
              "\n",
              "  for (const file of files) {\n",
              "    const li = document.createElement('li');\n",
              "    li.append(span(file.name, {fontWeight: 'bold'}));\n",
              "    li.append(span(\n",
              "        `(${file.type || 'n/a'}) - ${file.size} bytes, ` +\n",
              "        `last modified: ${\n",
              "            file.lastModifiedDate ? file.lastModifiedDate.toLocaleDateString() :\n",
              "                                    'n/a'} - `));\n",
              "    const percent = span('0% done');\n",
              "    li.appendChild(percent);\n",
              "\n",
              "    outputElement.appendChild(li);\n",
              "\n",
              "    const fileDataPromise = new Promise((resolve) => {\n",
              "      const reader = new FileReader();\n",
              "      reader.onload = (e) => {\n",
              "        resolve(e.target.result);\n",
              "      };\n",
              "      reader.readAsArrayBuffer(file);\n",
              "    });\n",
              "    // Wait for the data to be ready.\n",
              "    let fileData = yield {\n",
              "      promise: fileDataPromise,\n",
              "      response: {\n",
              "        action: 'continue',\n",
              "      }\n",
              "    };\n",
              "\n",
              "    // Use a chunked sending to avoid message size limits. See b/62115660.\n",
              "    let position = 0;\n",
              "    do {\n",
              "      const length = Math.min(fileData.byteLength - position, MAX_PAYLOAD_SIZE);\n",
              "      const chunk = new Uint8Array(fileData, position, length);\n",
              "      position += length;\n",
              "\n",
              "      const base64 = btoa(String.fromCharCode.apply(null, chunk));\n",
              "      yield {\n",
              "        response: {\n",
              "          action: 'append',\n",
              "          file: file.name,\n",
              "          data: base64,\n",
              "        },\n",
              "      };\n",
              "\n",
              "      let percentDone = fileData.byteLength === 0 ?\n",
              "          100 :\n",
              "          Math.round((position / fileData.byteLength) * 100);\n",
              "      percent.textContent = `${percentDone}% done`;\n",
              "\n",
              "    } while (position < fileData.byteLength);\n",
              "  }\n",
              "\n",
              "  // All done.\n",
              "  yield {\n",
              "    response: {\n",
              "      action: 'complete',\n",
              "    }\n",
              "  };\n",
              "}\n",
              "\n",
              "scope.google = scope.google || {};\n",
              "scope.google.colab = scope.google.colab || {};\n",
              "scope.google.colab._files = {\n",
              "  _uploadFiles,\n",
              "  _uploadFilesContinue,\n",
              "};\n",
              "})(self);\n",
              "</script> "
            ]
          },
          "metadata": {}
        },
        {
          "output_type": "stream",
          "name": "stdout",
          "text": [
            "Saving kaggle.json to kaggle (1).json\n",
            "Kaggle API 1.7.4.5\n",
            "Dataset URL: https://www.kaggle.com/datasets/marufchowdhury/quote-dataset\n",
            "License(s): MIT\n",
            "Extracted files: ['Quote_data.csv']\n",
            "Using CSV: Quote_data.csv\n",
            "Shape: (29355, 4)\n",
            "Columns: ['Quote', 'Author', 'Tags', 'revised_tags']\n"
          ]
        },
        {
          "output_type": "display_data",
          "data": {
            "text/plain": [
              "                                               Quote              Author  \\\n",
              "0     “Be yourself; everyone else is already taken.”         Oscar Wilde   \n",
              "1  “You've gotta dance like there's nobody watchi...   William W. Purkey   \n",
              "2  “Be the change that you wish to see in the wor...      Mahatma Gandhi   \n",
              "\n",
              "                                                Tags  \\\n",
              "0  attributed-no-source, be-yourself, gilbert-per...   \n",
              "1  dance, heaven, hurt, inspirational, life, love...   \n",
              "2  action, change, inspirational, misattributed-t...   \n",
              "\n",
              "                                        revised_tags  \n",
              "0  ['attributed-no-source', 'be-yourself', 'hones...  \n",
              "1  ['dance', 'heaven', 'hurt', 'inspirational', '...  \n",
              "2  ['action', 'change', 'inspirational', 'philoso...  "
            ],
            "text/html": [
              "\n",
              "  <div id=\"df-6076c748-718c-42e4-acca-32bf0f48e7d2\" class=\"colab-df-container\">\n",
              "    <div>\n",
              "<style scoped>\n",
              "    .dataframe tbody tr th:only-of-type {\n",
              "        vertical-align: middle;\n",
              "    }\n",
              "\n",
              "    .dataframe tbody tr th {\n",
              "        vertical-align: top;\n",
              "    }\n",
              "\n",
              "    .dataframe thead th {\n",
              "        text-align: right;\n",
              "    }\n",
              "</style>\n",
              "<table border=\"1\" class=\"dataframe\">\n",
              "  <thead>\n",
              "    <tr style=\"text-align: right;\">\n",
              "      <th></th>\n",
              "      <th>Quote</th>\n",
              "      <th>Author</th>\n",
              "      <th>Tags</th>\n",
              "      <th>revised_tags</th>\n",
              "    </tr>\n",
              "  </thead>\n",
              "  <tbody>\n",
              "    <tr>\n",
              "      <th>0</th>\n",
              "      <td>“Be yourself; everyone else is already taken.”</td>\n",
              "      <td>Oscar Wilde</td>\n",
              "      <td>attributed-no-source, be-yourself, gilbert-per...</td>\n",
              "      <td>['attributed-no-source', 'be-yourself', 'hones...</td>\n",
              "    </tr>\n",
              "    <tr>\n",
              "      <th>1</th>\n",
              "      <td>“You've gotta dance like there's nobody watchi...</td>\n",
              "      <td>William W. Purkey</td>\n",
              "      <td>dance, heaven, hurt, inspirational, life, love...</td>\n",
              "      <td>['dance', 'heaven', 'hurt', 'inspirational', '...</td>\n",
              "    </tr>\n",
              "    <tr>\n",
              "      <th>2</th>\n",
              "      <td>“Be the change that you wish to see in the wor...</td>\n",
              "      <td>Mahatma Gandhi</td>\n",
              "      <td>action, change, inspirational, misattributed-t...</td>\n",
              "      <td>['action', 'change', 'inspirational', 'philoso...</td>\n",
              "    </tr>\n",
              "  </tbody>\n",
              "</table>\n",
              "</div>\n",
              "    <div class=\"colab-df-buttons\">\n",
              "\n",
              "  <div class=\"colab-df-container\">\n",
              "    <button class=\"colab-df-convert\" onclick=\"convertToInteractive('df-6076c748-718c-42e4-acca-32bf0f48e7d2')\"\n",
              "            title=\"Convert this dataframe to an interactive table.\"\n",
              "            style=\"display:none;\">\n",
              "\n",
              "  <svg xmlns=\"http://www.w3.org/2000/svg\" height=\"24px\" viewBox=\"0 -960 960 960\">\n",
              "    <path d=\"M120-120v-720h720v720H120Zm60-500h600v-160H180v160Zm220 220h160v-160H400v160Zm0 220h160v-160H400v160ZM180-400h160v-160H180v160Zm440 0h160v-160H620v160ZM180-180h160v-160H180v160Zm440 0h160v-160H620v160Z\"/>\n",
              "  </svg>\n",
              "    </button>\n",
              "\n",
              "  <style>\n",
              "    .colab-df-container {\n",
              "      display:flex;\n",
              "      gap: 12px;\n",
              "    }\n",
              "\n",
              "    .colab-df-convert {\n",
              "      background-color: #E8F0FE;\n",
              "      border: none;\n",
              "      border-radius: 50%;\n",
              "      cursor: pointer;\n",
              "      display: none;\n",
              "      fill: #1967D2;\n",
              "      height: 32px;\n",
              "      padding: 0 0 0 0;\n",
              "      width: 32px;\n",
              "    }\n",
              "\n",
              "    .colab-df-convert:hover {\n",
              "      background-color: #E2EBFA;\n",
              "      box-shadow: 0px 1px 2px rgba(60, 64, 67, 0.3), 0px 1px 3px 1px rgba(60, 64, 67, 0.15);\n",
              "      fill: #174EA6;\n",
              "    }\n",
              "\n",
              "    .colab-df-buttons div {\n",
              "      margin-bottom: 4px;\n",
              "    }\n",
              "\n",
              "    [theme=dark] .colab-df-convert {\n",
              "      background-color: #3B4455;\n",
              "      fill: #D2E3FC;\n",
              "    }\n",
              "\n",
              "    [theme=dark] .colab-df-convert:hover {\n",
              "      background-color: #434B5C;\n",
              "      box-shadow: 0px 1px 3px 1px rgba(0, 0, 0, 0.15);\n",
              "      filter: drop-shadow(0px 1px 2px rgba(0, 0, 0, 0.3));\n",
              "      fill: #FFFFFF;\n",
              "    }\n",
              "  </style>\n",
              "\n",
              "    <script>\n",
              "      const buttonEl =\n",
              "        document.querySelector('#df-6076c748-718c-42e4-acca-32bf0f48e7d2 button.colab-df-convert');\n",
              "      buttonEl.style.display =\n",
              "        google.colab.kernel.accessAllowed ? 'block' : 'none';\n",
              "\n",
              "      async function convertToInteractive(key) {\n",
              "        const element = document.querySelector('#df-6076c748-718c-42e4-acca-32bf0f48e7d2');\n",
              "        const dataTable =\n",
              "          await google.colab.kernel.invokeFunction('convertToInteractive',\n",
              "                                                    [key], {});\n",
              "        if (!dataTable) return;\n",
              "\n",
              "        const docLinkHtml = 'Like what you see? Visit the ' +\n",
              "          '<a target=\"_blank\" href=https://colab.research.google.com/notebooks/data_table.ipynb>data table notebook</a>'\n",
              "          + ' to learn more about interactive tables.';\n",
              "        element.innerHTML = '';\n",
              "        dataTable['output_type'] = 'display_data';\n",
              "        await google.colab.output.renderOutput(dataTable, element);\n",
              "        const docLink = document.createElement('div');\n",
              "        docLink.innerHTML = docLinkHtml;\n",
              "        element.appendChild(docLink);\n",
              "      }\n",
              "    </script>\n",
              "  </div>\n",
              "\n",
              "\n",
              "    <div id=\"df-518ffe09-37fd-42e3-b82c-165e99f67084\">\n",
              "      <button class=\"colab-df-quickchart\" onclick=\"quickchart('df-518ffe09-37fd-42e3-b82c-165e99f67084')\"\n",
              "                title=\"Suggest charts\"\n",
              "                style=\"display:none;\">\n",
              "\n",
              "<svg xmlns=\"http://www.w3.org/2000/svg\" height=\"24px\"viewBox=\"0 0 24 24\"\n",
              "     width=\"24px\">\n",
              "    <g>\n",
              "        <path d=\"M19 3H5c-1.1 0-2 .9-2 2v14c0 1.1.9 2 2 2h14c1.1 0 2-.9 2-2V5c0-1.1-.9-2-2-2zM9 17H7v-7h2v7zm4 0h-2V7h2v10zm4 0h-2v-4h2v4z\"/>\n",
              "    </g>\n",
              "</svg>\n",
              "      </button>\n",
              "\n",
              "<style>\n",
              "  .colab-df-quickchart {\n",
              "      --bg-color: #E8F0FE;\n",
              "      --fill-color: #1967D2;\n",
              "      --hover-bg-color: #E2EBFA;\n",
              "      --hover-fill-color: #174EA6;\n",
              "      --disabled-fill-color: #AAA;\n",
              "      --disabled-bg-color: #DDD;\n",
              "  }\n",
              "\n",
              "  [theme=dark] .colab-df-quickchart {\n",
              "      --bg-color: #3B4455;\n",
              "      --fill-color: #D2E3FC;\n",
              "      --hover-bg-color: #434B5C;\n",
              "      --hover-fill-color: #FFFFFF;\n",
              "      --disabled-bg-color: #3B4455;\n",
              "      --disabled-fill-color: #666;\n",
              "  }\n",
              "\n",
              "  .colab-df-quickchart {\n",
              "    background-color: var(--bg-color);\n",
              "    border: none;\n",
              "    border-radius: 50%;\n",
              "    cursor: pointer;\n",
              "    display: none;\n",
              "    fill: var(--fill-color);\n",
              "    height: 32px;\n",
              "    padding: 0;\n",
              "    width: 32px;\n",
              "  }\n",
              "\n",
              "  .colab-df-quickchart:hover {\n",
              "    background-color: var(--hover-bg-color);\n",
              "    box-shadow: 0 1px 2px rgba(60, 64, 67, 0.3), 0 1px 3px 1px rgba(60, 64, 67, 0.15);\n",
              "    fill: var(--button-hover-fill-color);\n",
              "  }\n",
              "\n",
              "  .colab-df-quickchart-complete:disabled,\n",
              "  .colab-df-quickchart-complete:disabled:hover {\n",
              "    background-color: var(--disabled-bg-color);\n",
              "    fill: var(--disabled-fill-color);\n",
              "    box-shadow: none;\n",
              "  }\n",
              "\n",
              "  .colab-df-spinner {\n",
              "    border: 2px solid var(--fill-color);\n",
              "    border-color: transparent;\n",
              "    border-bottom-color: var(--fill-color);\n",
              "    animation:\n",
              "      spin 1s steps(1) infinite;\n",
              "  }\n",
              "\n",
              "  @keyframes spin {\n",
              "    0% {\n",
              "      border-color: transparent;\n",
              "      border-bottom-color: var(--fill-color);\n",
              "      border-left-color: var(--fill-color);\n",
              "    }\n",
              "    20% {\n",
              "      border-color: transparent;\n",
              "      border-left-color: var(--fill-color);\n",
              "      border-top-color: var(--fill-color);\n",
              "    }\n",
              "    30% {\n",
              "      border-color: transparent;\n",
              "      border-left-color: var(--fill-color);\n",
              "      border-top-color: var(--fill-color);\n",
              "      border-right-color: var(--fill-color);\n",
              "    }\n",
              "    40% {\n",
              "      border-color: transparent;\n",
              "      border-right-color: var(--fill-color);\n",
              "      border-top-color: var(--fill-color);\n",
              "    }\n",
              "    60% {\n",
              "      border-color: transparent;\n",
              "      border-right-color: var(--fill-color);\n",
              "    }\n",
              "    80% {\n",
              "      border-color: transparent;\n",
              "      border-right-color: var(--fill-color);\n",
              "      border-bottom-color: var(--fill-color);\n",
              "    }\n",
              "    90% {\n",
              "      border-color: transparent;\n",
              "      border-bottom-color: var(--fill-color);\n",
              "    }\n",
              "  }\n",
              "</style>\n",
              "\n",
              "      <script>\n",
              "        async function quickchart(key) {\n",
              "          const quickchartButtonEl =\n",
              "            document.querySelector('#' + key + ' button');\n",
              "          quickchartButtonEl.disabled = true;  // To prevent multiple clicks.\n",
              "          quickchartButtonEl.classList.add('colab-df-spinner');\n",
              "          try {\n",
              "            const charts = await google.colab.kernel.invokeFunction(\n",
              "                'suggestCharts', [key], {});\n",
              "          } catch (error) {\n",
              "            console.error('Error during call to suggestCharts:', error);\n",
              "          }\n",
              "          quickchartButtonEl.classList.remove('colab-df-spinner');\n",
              "          quickchartButtonEl.classList.add('colab-df-quickchart-complete');\n",
              "        }\n",
              "        (() => {\n",
              "          let quickchartButtonEl =\n",
              "            document.querySelector('#df-518ffe09-37fd-42e3-b82c-165e99f67084 button');\n",
              "          quickchartButtonEl.style.display =\n",
              "            google.colab.kernel.accessAllowed ? 'block' : 'none';\n",
              "        })();\n",
              "      </script>\n",
              "    </div>\n",
              "\n",
              "    </div>\n",
              "  </div>\n"
            ],
            "application/vnd.google.colaboratory.intrinsic+json": {
              "type": "dataframe",
              "summary": "{\n  \"name\": \"print(\\\"Unique authors:\\\", df_pd[author_col]\",\n  \"rows\": 3,\n  \"fields\": [\n    {\n      \"column\": \"Quote\",\n      \"properties\": {\n        \"dtype\": \"string\",\n        \"num_unique_values\": 3,\n        \"samples\": [\n          \"\\u201cBe yourself; everyone else is already taken.\\u201d\",\n          \"\\u201cYou've gotta dance like there's nobody watching,\\nLove like you'll never be hurt,\\nSing like there's nobody listening,\\nAnd live like it's heaven on earth.\\u201d\",\n          \"\\u201cBe the change that you wish to see in the world.\\u201d\"\n        ],\n        \"semantic_type\": \"\",\n        \"description\": \"\"\n      }\n    },\n    {\n      \"column\": \"Author\",\n      \"properties\": {\n        \"dtype\": \"string\",\n        \"num_unique_values\": 3,\n        \"samples\": [\n          \" Oscar Wilde\",\n          \" William W. Purkey\",\n          \" Mahatma Gandhi\"\n        ],\n        \"semantic_type\": \"\",\n        \"description\": \"\"\n      }\n    },\n    {\n      \"column\": \"Tags\",\n      \"properties\": {\n        \"dtype\": \"string\",\n        \"num_unique_values\": 3,\n        \"samples\": [\n          \"attributed-no-source, be-yourself, gilbert-perreira, honesty, inspirational, misattributed-oscar-wilde, quote-investigator\",\n          \"dance, heaven, hurt, inspirational, life, love, sing\",\n          \"action, change, inspirational, misattributed-to-gandhi, philosophy, wish\"\n        ],\n        \"semantic_type\": \"\",\n        \"description\": \"\"\n      }\n    },\n    {\n      \"column\": \"revised_tags\",\n      \"properties\": {\n        \"dtype\": \"string\",\n        \"num_unique_values\": 3,\n        \"samples\": [\n          \"['attributed-no-source', 'be-yourself', 'honesty', 'inspirational']\",\n          \"['dance', 'heaven', 'hurt', 'inspirational', 'life', 'love']\",\n          \"['action', 'change', 'inspirational', 'philosophy', 'wish']\"\n        ],\n        \"semantic_type\": \"\",\n        \"description\": \"\"\n      }\n    }\n  ]\n}"
            }
          },
          "metadata": {}
        },
        {
          "output_type": "stream",
          "name": "stdout",
          "text": [
            "Row count: 29355\n",
            "Unique authors: 10982\n"
          ]
        }
      ]
    },
    {
      "cell_type": "markdown",
      "source": [
        "This begins the **Spark EDA** and cleaning. It loads the CSV into a Spark DataFrame, inspects the schema and sample rows, then standardises column names to text and author. It performs key EDA cleaning steps:\n",
        "1. trims whitespace\n",
        "2. collapses multiple spaces\n",
        "3. drops nulls\n",
        "4. removes very short quotes (length < 15 characters)\n",
        "4. and deduplicates on (text, author).\n",
        "\n",
        "Finally, it shows the cleaned row count and number of distinct authors. These actions implement the early EDA objectives: verify structure, normalise fields, remove noise/duplicates, and prepare a reliable corpus for feature selection and modelling.\n",
        "\n",
        "Reference:\n",
        "Selvaraj, N. (2022). Pyspark Tutorial: Getting Started with Pyspark. [online] Datacamp.com. Available at: https://www.datacamp.com/tutorial/pyspark-tutorial-getting-started-with-pyspark. [Accessed: 27 September 2025]\n"
      ],
      "metadata": {
        "id": "ojug560YCYcS"
      }
    },
    {
      "cell_type": "code",
      "source": [
        "# use Spark for analysis\n",
        "from pyspark.sql import SparkSession, functions as F\n",
        "\n",
        "# Start a Spark session for EDA/cleaning\n",
        "spark = SparkSession.builder.appName(\"AuthorID_LSTM_OptionB\").getOrCreate()\n",
        "\n",
        "# Load CSV into Spark DataFrame with header and schema\n",
        "sdf = spark.read.csv(str(cand), header=True, inferSchema=True)\n",
        "print(\"Raw row count:\", sdf.count())\n",
        "sdf.printSchema()\n",
        "sdf.show(5, truncate=120)\n",
        "\n",
        "cols_lower = [c.lower() for c in sdf.columns]\n",
        "def rename_if(df, options, new_name):\n",
        "    for n in options:\n",
        "        if n in cols_lower:\n",
        "            old = df.columns[cols_lower.index(n)]\n",
        "            return df.withColumnRenamed(old, new_name)\n",
        "    return df\n",
        "\n",
        "sdf = rename_if(sdf, [\"quote\",\"quotes\",\"text\"], \"text\")\n",
        "sdf = rename_if(sdf, [\"author\",\"writer\"], \"author\")\n",
        "\n",
        "#both required columns must exist for modelling\n",
        "if \"text\" not in [c.lower() for c in sdf.columns]:\n",
        "    raise ValueError(f\"Expected a text column in {sdf.columns}\")\n",
        "if \"author\" not in [c.lower() for c in sdf.columns]:\n",
        "    raise ValueError(f\"Expected an author column in {sdf.columns}\")\n",
        "\n",
        "# EDA cleaning steps\n",
        "sdf = (\n",
        "    sdf\n",
        "    .withColumn(\"text\", F.trim(F.regexp_replace(F.col(\"text\"), r\"\\s+\", \" \")))\n",
        "    .withColumn(\"author\", F.trim(F.regexp_replace(F.col(\"author\"), r\"\\s+\", \" \")))\n",
        "    .filter(F.col(\"text\").isNotNull() & F.col(\"author\").isNotNull())\n",
        "    .filter(F.length(\"text\") >= 15)\n",
        "    .dropDuplicates([\"text\",\"author\"])\n",
        ")\n",
        "\n",
        "print(\"After cleaning:\", sdf.count())\n",
        "print(\"Distinct authors:\", sdf.select(\"author\").distinct().count())\n"
      ],
      "metadata": {
        "colab": {
          "base_uri": "https://localhost:8080/"
        },
        "id": "Zav8lP1jQv_K",
        "outputId": "d11c54f1-676d-41d0-deef-af0d7f2f49b6"
      },
      "execution_count": null,
      "outputs": [
        {
          "output_type": "stream",
          "name": "stdout",
          "text": [
            "Raw row count: 49232\n",
            "root\n",
            " |-- Quote: string (nullable = true)\n",
            " |-- Author: string (nullable = true)\n",
            " |-- Tags: string (nullable = true)\n",
            " |-- revised_tags: string (nullable = true)\n",
            "\n",
            "+-------------------------------------------------+------------------+------------------------------------------------------------------------------------------------------------------------+-------------------------------------------------------------------+\n",
            "|                                            Quote|            Author|                                                                                                                    Tags|                                                       revised_tags|\n",
            "+-------------------------------------------------+------------------+------------------------------------------------------------------------------------------------------------------------+-------------------------------------------------------------------+\n",
            "|   “Be yourself; everyone else is already taken.”|       Oscar Wilde|attributed-no-source, be-yourself, gilbert-perreira, honesty, inspirational, misattributed-oscar-wilde, quote-investi...|['attributed-no-source', 'be-yourself', 'honesty', 'inspirational']|\n",
            "|“You've gotta dance like there's nobody watching,|              NULL|                                                                                                                    NULL|                                                               NULL|\n",
            "|                   Love like you'll never be hurt|              NULL|                                                                                                                    NULL|                                                               NULL|\n",
            "|               Sing like there's nobody listening|              NULL|                                                                                                                    NULL|                                                               NULL|\n",
            "|            And live like it's heaven on earth.”\"| William W. Purkey|                                                                    dance, heaven, hurt, inspirational, life, love, sing|       ['dance', 'heaven', 'hurt', 'inspirational', 'life', 'love']|\n",
            "+-------------------------------------------------+------------------+------------------------------------------------------------------------------------------------------------------------+-------------------------------------------------------------------+\n",
            "only showing top 5 rows\n",
            "\n",
            "After cleaning: 27432\n",
            "Distinct authors: 14823\n"
          ]
        }
      ]
    },
    {
      "cell_type": "markdown",
      "source": [
        "This continues the **Exploratory Data Analysis (EDA)** by examining text length patterns and author distributions.\n",
        "\n",
        "First, it calculates descriptive statistics for quote lengths (average, median, 90th percentile, maximum) to help determine a reasonable sequence length for model training.\n",
        "\n",
        "Next, it groups quotes into length buckets to visualise how short, medium and long quotes are distributed across the dataset.\n",
        "\n",
        "Finally, it lists the top 20 authors by quote count, which shows the imbalance problem where some authors are heavily represented compared to others. These insights help with later design choices such as maximum sequence length, filtering thresholds and class balancing strategies."
      ],
      "metadata": {
        "id": "VjEx1A8nDGTN"
      }
    },
    {
      "cell_type": "code",
      "source": [
        "# Quote length stats\n",
        "sdf = sdf.withColumn(\"length\", F.length(\"text\"))\n",
        "\n",
        "# average, median, 90th percentile and maximum length\n",
        "sdf.select(\n",
        "    F.mean(\"length\").alias(\"avg_len\"),\n",
        "    F.expr(\"percentile(length, 0.5)\").alias(\"median_len\"),\n",
        "    F.expr(\"percentile(length, 0.9)\").alias(\"p90_len\"),\n",
        "    F.max(\"length\").alias(\"max_len\")\n",
        ").show()\n",
        "\n",
        "# Length buckets\n",
        "sdf.groupBy(\n",
        "    F.when(F.col(\"length\")<50, \"<50\")\n",
        "     .when(F.col(\"length\")<100, \"50-99\")\n",
        "     .when(F.col(\"length\")<200, \"100-199\")\n",
        "     .otherwise(\"200+\")\n",
        "     .alias(\"len_bucket\")\n",
        ").count().orderBy(\"len_bucket\").show()\n",
        "\n",
        "# Top authors\n",
        "sdf.groupBy(\"author\").count().orderBy(F.desc(\"count\")).show(20, truncate=False)\n"
      ],
      "metadata": {
        "colab": {
          "base_uri": "https://localhost:8080/"
        },
        "id": "UBapyVNKbC5T",
        "outputId": "36405a21-80a1-49bd-9bf5-a8d5e9808f6d"
      },
      "execution_count": null,
      "outputs": [
        {
          "output_type": "stream",
          "name": "stdout",
          "text": [
            "+-----------------+----------+-------+-------+\n",
            "|          avg_len|median_len|p90_len|max_len|\n",
            "+-----------------+----------+-------+-------+\n",
            "|153.8601268591426|      96.0|  343.0|   2612|\n",
            "+-----------------+----------+-------+-------+\n",
            "\n",
            "+----------+-----+\n",
            "|len_bucket|count|\n",
            "+----------+-----+\n",
            "|   100-199| 7045|\n",
            "|      200+| 6155|\n",
            "|     50-99| 7927|\n",
            "|       <50| 6305|\n",
            "+----------+-----+\n",
            "\n",
            "+----------------------------------------------------------------------------------+-----+\n",
            "|author                                                                            |count|\n",
            "+----------------------------------------------------------------------------------+-----+\n",
            "|Roy T. Bennett, The Light in the Heart                                            |153  |\n",
            "|Gordon Roddick                                                                    |151  |\n",
            "|Albert Einstein                                                                   |93   |\n",
            "|Criss Jami, Killosophy                                                            |84   |\n",
            "|C. JoyBell C.                                                                     |83   |\n",
            "|Suzy Kassem, Rise Up and Salute the Sun: The Writings of Suzy Kassem              |81   |\n",
            "|Mark Twain                                                                        |79   |\n",
            "|Carl Sagan, The Demon-Haunted World: Science as a Candle in the Dark              |79   |\n",
            "|Erik Pevernagie                                                                   |72   |\n",
            "|Roy T. Bennett                                                                    |68   |\n",
            "|Steve Maraboli, Unapologetically You: Reflections on Life and the Human Experience|65   |\n",
            "|Gordon Roddick, 1963                                                              |64   |\n",
            "|Shannon L. Alder                                                                  |60   |\n",
            "|Steve Maraboli, Life, the Truth, and Being Free                                   |59   |\n",
            "|Friedrich Nietzsche                                                               |58   |\n",
            "|John Green, The Fault in Our Stars                                                |54   |\n",
            "|Oscar Wilde                                                                       |52   |\n",
            "|Debasish Mridha                                                                   |48   |\n",
            "|Marcus Aurelius, Meditations                                                      |47   |\n",
            "|Markus Zusak, The Book Thief                                                      |45   |\n",
            "+----------------------------------------------------------------------------------+-----+\n",
            "only showing top 20 rows\n",
            "\n"
          ]
        }
      ]
    },
    {
      "cell_type": "markdown",
      "source": [
        "This builds a **Spark** baseline model to benchmark performance before  learning. It filters to authors with at least 100 quotes to reduce extreme class imbalance, constructs a classic TF-IDF text pipeline, encodes author names to numeric labels, trains a Logistic Regression classifier, and reports accuracy and F1. These results serve as a baseline for the later LSTM model, helping to judge whether the model delivers real value beyond a strong linear baseline."
      ],
      "metadata": {
        "id": "0qoRmlIHDlO9"
      }
    },
    {
      "cell_type": "code",
      "source": [
        "from pyspark.sql import functions as F\n",
        "from pyspark.ml import Pipeline\n",
        "from pyspark.ml.feature import Tokenizer, StopWordsRemover, HashingTF, IDF, StringIndexer\n",
        "from pyspark.ml.classification import LogisticRegression\n",
        "from pyspark.ml.evaluation import MulticlassClassificationEvaluator\n",
        "\n",
        "#eep only authors with a reasonable amount of data\n",
        "MIN_PER_AUTHOR = 100\n",
        "by_author = sdf.groupBy(\"author\").count().withColumnRenamed(\"count\",\"n_by_author\")\n",
        "sdf_small = (\n",
        "    sdf.join(by_author, on=\"author\")\n",
        "       .filter(F.col(\"n_by_author\") >= MIN_PER_AUTHOR)\n",
        "       .select(\"text\",\"author\")\n",
        ")\n",
        "\n",
        "tok = Tokenizer(inputCol=\"text\", outputCol=\"words\")\n",
        "rem = StopWordsRemover(inputCol=\"words\", outputCol=\"filtered\")\n",
        "tf  = HashingTF(inputCol=\"filtered\", outputCol=\"tf\", numFeatures=(1<<14))  # 16,384 dims\n",
        "idf = IDF(inputCol=\"tf\", outputCol=\"features\", minDocFreq=3)\n",
        "lab = StringIndexer(inputCol=\"author\", outputCol=\"label\", handleInvalid=\"skip\")\n",
        "\n",
        "#fit the Spark pipeline\n",
        "pipe = Pipeline(stages=[tok, rem, tf, idf, lab])\n",
        "fm = pipe.fit(sdf_small)\n",
        "sdf_f = fm.transform(sdf_small).select(\"text\",\"author\",\"features\",\"label\")\n",
        "\n",
        "#Train/test split\n",
        "train_sp, test_sp = sdf_f.randomSplit([0.8, 0.2], seed=42)\n",
        "\n",
        "#Logistic Regression\n",
        "lr = LogisticRegression(featuresCol=\"features\", labelCol=\"label\",\n",
        "                        maxIter=80, regParam=0.01, elasticNetParam=0.0)\n",
        "lr_model = lr.fit(train_sp)\n",
        "pred_lr = lr_model.transform(test_sp)\n",
        "\n",
        "#accuracy and macro F1\n",
        "eva_acc = MulticlassClassificationEvaluator(labelCol=\"label\", predictionCol=\"prediction\", metricName=\"accuracy\")\n",
        "eva_f1  = MulticlassClassificationEvaluator(labelCol=\"label\", predictionCol=\"prediction\", metricName=\"f1\")\n",
        "print(\"Spark TF-IDF (16k) + LR accuracy:\", round(eva_acc.evaluate(pred_lr), 4))\n",
        "print(\"Spark TF-IDF (16k) + LR F1:\",      round(eva_f1.evaluate(pred_lr), 4))\n"
      ],
      "metadata": {
        "colab": {
          "base_uri": "https://localhost:8080/"
        },
        "id": "ZN-pN3cnbMr5",
        "outputId": "b0cd8f90-a15f-49aa-ca8f-8cf2fda58034"
      },
      "execution_count": null,
      "outputs": [
        {
          "output_type": "stream",
          "name": "stdout",
          "text": [
            "Spark TF-IDF (16k) + LR accuracy: 0.766\n",
            "Spark TF-IDF (16k) + LR F1: 0.7692\n"
          ]
        }
      ]
    },
    {
      "cell_type": "markdown",
      "source": [
        "This now begins the **Feature Selection** steps. The cleaned dataset is reused and filtered to authors with at least 100 quotes. Calculate length statistics of the text to guide the maximum sequence length (MAXLEN) that the model will process. The 90th percentile value is chosen to balance coverage (capturing most quotes) while avoiding excessive padding or memory use, capped at 160 tokens. Also define a vocabulary size (VOCAB_SIZE) of 30000, based on EDA and TF-IDF experiments, to capture frequent words. These steps ensure that the model works with a manageable but representative feature space, making training more efficient and fair."
      ],
      "metadata": {
        "id": "rWDfJ-PzEXsC"
      }
    },
    {
      "cell_type": "code",
      "source": [
        "\n",
        "from pyspark.sql import functions as F\n",
        "\n",
        "try:\n",
        "    sdf_small\n",
        "except NameError:\n",
        "    MIN_PER_AUTHOR = 100  # minimum quotes per author\n",
        "    by_author = sdf.groupBy(\"author\").count().withColumnRenamed(\"count\",\"n_by_author\")\n",
        "    sdf_small = (\n",
        "        sdf.join(by_author, on=\"author\")\n",
        "           .filter(F.col(\"n_by_author\") >= MIN_PER_AUTHOR)\n",
        "           .select(\"text\",\"author\")\n",
        "    )\n",
        "\n",
        "# Length stats guide MAXLEN\n",
        "sdf_len = sdf_small.withColumn(\"length\", F.length(\"text\"))\n",
        "len_stats = sdf_len.select(\n",
        "    F.expr(\"percentile(length, 0.5)\").alias(\"p50\"),\n",
        "    F.expr(\"percentile(length, 0.9)\").alias(\"p90\"),\n",
        "    F.expr(\"percentile(length, 0.95)\").alias(\"p95\"),\n",
        "    F.max(\"length\").alias(\"max_len\")\n",
        ").first()\n",
        "print(\"Length stats:\", dict(len_stats.asDict()))\n",
        "\n",
        "# Decide MAXLEN\n",
        "MAXLEN = int(min(max(80, len_stats['p90']), 160))\n",
        "VOCAB_SIZE = 30000  # informed prior\n",
        "print(\"Planning and MAXLEN:\", MAXLEN, \"| VOCAB_SIZE:\", VOCAB_SIZE)\n",
        "\n",
        "#Show dataset size and number of authors\n",
        "print(\"Rows:\", sdf_small.count(), \"| Authors:\", sdf_small.select(\"author\").distinct().count())\n"
      ],
      "metadata": {
        "colab": {
          "base_uri": "https://localhost:8080/"
        },
        "id": "C46qr97ocdy2",
        "outputId": "b3fee788-afcd-40d9-cdfa-e2e5ce7e2d1e"
      },
      "execution_count": null,
      "outputs": [
        {
          "output_type": "stream",
          "name": "stdout",
          "text": [
            "Length stats: {'p50': 96.0, 'p90': 213.09999999999997, 'p95': 265.39999999999986, 'max_len': 478}\n",
            "Planning and MAXLEN: 160 | VOCAB_SIZE: 30000\n",
            "Rows: 304 | Authors: 2\n"
          ]
        }
      ]
    },
    {
      "cell_type": "markdown",
      "source": [
        "This prepares the cleaned data for training, validation and testing. First, the Spark DataFrame is converted to a Pandas DataFrame for compatibility with scikit-learn and Keras. The text and author fields are cast to string types to avoid inconsistencies. The dataset is then split into training (80%), validation (10%) and testing (10%) subsets using stratified sampling to ensure author distributions remain balanced across all splits. Finally, author names are converted into numeric class labels using a LabelEncoder, and the total number of author classes is printed. These steps are essential to ensure fair evaluation and that the model can interpret author categories correctly."
      ],
      "metadata": {
        "id": "UrHh1HijFDBv"
      }
    },
    {
      "cell_type": "code",
      "source": [
        "import pandas as pd\n",
        "from sklearn.model_selection import train_test_split\n",
        "from sklearn.preprocessing import LabelEncoder\n",
        "\n",
        "#Convert Spark DataFrame to Pandas\n",
        "pdf = sdf_small.toPandas()\n",
        "pdf[\"text\"] = pdf[\"text\"].astype(str)\n",
        "pdf[\"author\"] = pdf[\"author\"].astype(str)\n",
        "\n",
        "#split dataset into train (80%), validation (10%), and test (10%)\n",
        "train_df, temp_df = train_test_split(\n",
        "    pdf, test_size=0.2, random_state=42, stratify=pdf[\"author\"]\n",
        ")\n",
        "val_df, test_df = train_test_split(\n",
        "    temp_df, test_size=0.5, random_state=42, stratify=temp_df[\"author\"]\n",
        ")\n",
        "print(\"Stratified sizes:\", len(train_df), len(val_df), len(test_df))\n",
        "\n",
        "#Encode author names as numeric labels\n",
        "le = LabelEncoder()\n",
        "y_train = le.fit_transform(train_df[\"author\"])\n",
        "y_val   = le.transform(val_df[\"author\"])\n",
        "y_test  = le.transform(test_df[\"author\"])\n",
        "\n",
        "#Number of unique classes (authors)\n",
        "n_classes = len(le.classes_)\n",
        "print(\"Classes:\", n_classes)\n"
      ],
      "metadata": {
        "colab": {
          "base_uri": "https://localhost:8080/"
        },
        "id": "tkNC45EScwPC",
        "outputId": "224d8c95-39e2-408f-8c1f-c341bf5e25c8"
      },
      "execution_count": null,
      "outputs": [
        {
          "output_type": "stream",
          "name": "stdout",
          "text": [
            "Stratified sizes: 243 30 31\n",
            "Classes: 2\n"
          ]
        }
      ]
    },
    {
      "cell_type": "markdown",
      "source": [
        "This transforms the raw text quotes into numerical sequences that can be processed by the LSTM model. A TextVectorization layer is used with a maximum vocabulary size (VOCAB_SIZE) of 30 000 words and a fixed sequence length (MAXLEN) chosen from the earlier EDA. Case and punctuation are preserved, since they carry stylistic information useful for distinguishing these authors. The vectoriser is adapted on the training data, then applied to train, validation and test sets. This step finalises the feature preparation stage by ensuring all input data is in a consistent format for the neural network"
      ],
      "metadata": {
        "id": "eBjPslV-GBjn"
      }
    },
    {
      "cell_type": "code",
      "source": [
        "import tensorflow as tf\n",
        "from tensorflow.keras.layers import TextVectorization\n",
        "import numpy as np\n",
        "\n",
        "#converts raw text into integer sequences\n",
        "vectorizer = TextVectorization(\n",
        "    max_tokens=VOCAB_SIZE,\n",
        "    output_mode=\"int\",\n",
        "    output_sequence_length=MAXLEN,\n",
        "    standardize=None,       # keep case/punctuation (stylistic signal)\n",
        "    split=\"whitespace\"\n",
        ")\n",
        "vectorizer.adapt(train_df[\"text\"].values)\n",
        "\n",
        "X_train = vectorizer(np.array(train_df[\"text\"].tolist())).numpy()\n",
        "X_val   = vectorizer(np.array(val_df[\"text\"].tolist())).numpy()\n",
        "X_test  = vectorizer(np.array(test_df[\"text\"].tolist())).numpy()\n",
        "\n",
        "#Display shapes to confirm dataset sizes\n",
        "X_train.shape, X_val.shape, X_test.shape\n"
      ],
      "metadata": {
        "colab": {
          "base_uri": "https://localhost:8080/"
        },
        "id": "6dnqETSrczm4",
        "outputId": "3e8c154f-cf06-468c-f497-2748cdc88273"
      },
      "execution_count": null,
      "outputs": [
        {
          "output_type": "execute_result",
          "data": {
            "text/plain": [
              "((243, 160), (30, 160), (31, 160))"
            ]
          },
          "metadata": {},
          "execution_count": 10
        }
      ]
    },
    {
      "cell_type": "markdown",
      "source": [
        "This defines the **Model Training** for author prediction. Several hyperparameters are chosen and a Bidirectional LSTM with 128 units is trained.\n",
        "Pooling and dropout layers are used to reduce overfitting,\n",
        "\n",
        "The model is trained with the Adam optimiser with callbacks for early stopping. These hyperparameters were selected based on EDA findings and common best practices."
      ],
      "metadata": {
        "id": "Dh8ZBNorG4oF"
      }
    },
    {
      "cell_type": "code",
      "source": [
        "from sklearn.utils.class_weight import compute_class_weight\n",
        "from tensorflow.keras import layers, models, callbacks\n",
        "\n",
        "# class weights for imbalance\n",
        "classes = np.arange(n_classes)\n",
        "cw = compute_class_weight(class_weight=\"balanced\", classes=classes, y=y_train)\n",
        "class_weights = {i: float(w) for i,w in enumerate(cw)}\n",
        "\n",
        "# hyperparameters\n",
        "EMBED_DIM = 256\n",
        "LSTM_UNITS = 128\n",
        "DROPOUT = 0.35\n",
        "LR = 2e-4\n",
        "BATCH_SIZE = 256\n",
        "EPOCHS = 20\n",
        "\n",
        "#model architecture\n",
        "tf.keras.backend.clear_session()\n",
        "inputs = layers.Input(shape=(MAXLEN,), dtype=\"int32\")\n",
        "x = layers.Embedding(input_dim=VOCAB_SIZE, output_dim=EMBED_DIM, mask_zero=True)(inputs)\n",
        "x = layers.Conv1D(filters=256, kernel_size=3, padding=\"same\", activation=\"relu\")(x)\n",
        "x = layers.Bidirectional(layers.LSTM(LSTM_UNITS, return_sequences=True))(x)\n",
        "x = layers.GlobalMaxPool1D()(x)\n",
        "x = layers.Dropout(DROPOUT)(x)\n",
        "x = layers.Dense(256, activation=\"relu\")(x)\n",
        "x = layers.Dropout(DROPOUT)(x)\n",
        "outputs = layers.Dense(n_classes, activation=\"softmax\")(x)\n",
        "\n",
        "model = models.Model(inputs, outputs)\n",
        "model.compile(optimizer=tf.keras.optimizers.Adam(LR),\n",
        "              loss=\"sparse_categorical_crossentropy\",\n",
        "              metrics=[\"accuracy\"])\n",
        "model.summary()\n",
        "\n",
        "#call backs\n",
        "es  = callbacks.EarlyStopping(monitor=\"val_accuracy\", patience=4, mode=\"max\", restore_best_weights=True)\n",
        "rlr = callbacks.ReduceLROnPlateau(monitor=\"val_loss\", factor=0.5, patience=2, verbose=1)\n",
        "\n",
        "#Train model\n",
        "history = model.fit(\n",
        "    X_train, y_train,\n",
        "    validation_data=(X_val, y_val),\n",
        "    epochs=EPOCHS,\n",
        "    batch_size=BATCH_SIZE,\n",
        "    class_weight=class_weights,\n",
        "    callbacks=[es, rlr],\n",
        "    verbose=2\n",
        ")\n"
      ],
      "metadata": {
        "colab": {
          "base_uri": "https://localhost:8080/",
          "height": 691
        },
        "id": "5ZH5r31Oc3MA",
        "outputId": "efd03821-5012-4623-fbbc-c821680da66c"
      },
      "execution_count": null,
      "outputs": [
        {
          "output_type": "stream",
          "name": "stderr",
          "text": [
            "/usr/local/lib/python3.12/dist-packages/keras/src/layers/layer.py:965: UserWarning: Layer 'conv1d' (of type Conv1D) was passed an input with a mask attached to it. However, this layer does not support masking and will therefore destroy the mask information. Downstream layers will not see the mask.\n",
            "  warnings.warn(\n"
          ]
        },
        {
          "output_type": "display_data",
          "data": {
            "text/plain": [
              "\u001b[1mModel: \"functional\"\u001b[0m\n"
            ],
            "text/html": [
              "<pre style=\"white-space:pre;overflow-x:auto;line-height:normal;font-family:Menlo,'DejaVu Sans Mono',consolas,'Courier New',monospace\"><span style=\"font-weight: bold\">Model: \"functional\"</span>\n",
              "</pre>\n"
            ]
          },
          "metadata": {}
        },
        {
          "output_type": "display_data",
          "data": {
            "text/plain": [
              "┏━━━━━━━━━━━━━━━━━━━━━━━━━━━━━━━━━┳━━━━━━━━━━━━━━━━━━━━━━━━┳━━━━━━━━━━━━━━━┓\n",
              "┃\u001b[1m \u001b[0m\u001b[1mLayer (type)                   \u001b[0m\u001b[1m \u001b[0m┃\u001b[1m \u001b[0m\u001b[1mOutput Shape          \u001b[0m\u001b[1m \u001b[0m┃\u001b[1m \u001b[0m\u001b[1m      Param #\u001b[0m\u001b[1m \u001b[0m┃\n",
              "┡━━━━━━━━━━━━━━━━━━━━━━━━━━━━━━━━━╇━━━━━━━━━━━━━━━━━━━━━━━━╇━━━━━━━━━━━━━━━┩\n",
              "│ input_layer (\u001b[38;5;33mInputLayer\u001b[0m)        │ (\u001b[38;5;45mNone\u001b[0m, \u001b[38;5;34m160\u001b[0m)            │             \u001b[38;5;34m0\u001b[0m │\n",
              "├─────────────────────────────────┼────────────────────────┼───────────────┤\n",
              "│ embedding (\u001b[38;5;33mEmbedding\u001b[0m)           │ (\u001b[38;5;45mNone\u001b[0m, \u001b[38;5;34m160\u001b[0m, \u001b[38;5;34m256\u001b[0m)       │     \u001b[38;5;34m7,680,000\u001b[0m │\n",
              "├─────────────────────────────────┼────────────────────────┼───────────────┤\n",
              "│ conv1d (\u001b[38;5;33mConv1D\u001b[0m)                 │ (\u001b[38;5;45mNone\u001b[0m, \u001b[38;5;34m160\u001b[0m, \u001b[38;5;34m256\u001b[0m)       │       \u001b[38;5;34m196,864\u001b[0m │\n",
              "├─────────────────────────────────┼────────────────────────┼───────────────┤\n",
              "│ bidirectional (\u001b[38;5;33mBidirectional\u001b[0m)   │ (\u001b[38;5;45mNone\u001b[0m, \u001b[38;5;34m160\u001b[0m, \u001b[38;5;34m256\u001b[0m)       │       \u001b[38;5;34m394,240\u001b[0m │\n",
              "├─────────────────────────────────┼────────────────────────┼───────────────┤\n",
              "│ global_max_pooling1d            │ (\u001b[38;5;45mNone\u001b[0m, \u001b[38;5;34m256\u001b[0m)            │             \u001b[38;5;34m0\u001b[0m │\n",
              "│ (\u001b[38;5;33mGlobalMaxPooling1D\u001b[0m)            │                        │               │\n",
              "├─────────────────────────────────┼────────────────────────┼───────────────┤\n",
              "│ dropout (\u001b[38;5;33mDropout\u001b[0m)               │ (\u001b[38;5;45mNone\u001b[0m, \u001b[38;5;34m256\u001b[0m)            │             \u001b[38;5;34m0\u001b[0m │\n",
              "├─────────────────────────────────┼────────────────────────┼───────────────┤\n",
              "│ dense (\u001b[38;5;33mDense\u001b[0m)                   │ (\u001b[38;5;45mNone\u001b[0m, \u001b[38;5;34m256\u001b[0m)            │        \u001b[38;5;34m65,792\u001b[0m │\n",
              "├─────────────────────────────────┼────────────────────────┼───────────────┤\n",
              "│ dropout_1 (\u001b[38;5;33mDropout\u001b[0m)             │ (\u001b[38;5;45mNone\u001b[0m, \u001b[38;5;34m256\u001b[0m)            │             \u001b[38;5;34m0\u001b[0m │\n",
              "├─────────────────────────────────┼────────────────────────┼───────────────┤\n",
              "│ dense_1 (\u001b[38;5;33mDense\u001b[0m)                 │ (\u001b[38;5;45mNone\u001b[0m, \u001b[38;5;34m2\u001b[0m)              │           \u001b[38;5;34m514\u001b[0m │\n",
              "└─────────────────────────────────┴────────────────────────┴───────────────┘\n"
            ],
            "text/html": [
              "<pre style=\"white-space:pre;overflow-x:auto;line-height:normal;font-family:Menlo,'DejaVu Sans Mono',consolas,'Courier New',monospace\">┏━━━━━━━━━━━━━━━━━━━━━━━━━━━━━━━━━┳━━━━━━━━━━━━━━━━━━━━━━━━┳━━━━━━━━━━━━━━━┓\n",
              "┃<span style=\"font-weight: bold\"> Layer (type)                    </span>┃<span style=\"font-weight: bold\"> Output Shape           </span>┃<span style=\"font-weight: bold\">       Param # </span>┃\n",
              "┡━━━━━━━━━━━━━━━━━━━━━━━━━━━━━━━━━╇━━━━━━━━━━━━━━━━━━━━━━━━╇━━━━━━━━━━━━━━━┩\n",
              "│ input_layer (<span style=\"color: #0087ff; text-decoration-color: #0087ff\">InputLayer</span>)        │ (<span style=\"color: #00d7ff; text-decoration-color: #00d7ff\">None</span>, <span style=\"color: #00af00; text-decoration-color: #00af00\">160</span>)            │             <span style=\"color: #00af00; text-decoration-color: #00af00\">0</span> │\n",
              "├─────────────────────────────────┼────────────────────────┼───────────────┤\n",
              "│ embedding (<span style=\"color: #0087ff; text-decoration-color: #0087ff\">Embedding</span>)           │ (<span style=\"color: #00d7ff; text-decoration-color: #00d7ff\">None</span>, <span style=\"color: #00af00; text-decoration-color: #00af00\">160</span>, <span style=\"color: #00af00; text-decoration-color: #00af00\">256</span>)       │     <span style=\"color: #00af00; text-decoration-color: #00af00\">7,680,000</span> │\n",
              "├─────────────────────────────────┼────────────────────────┼───────────────┤\n",
              "│ conv1d (<span style=\"color: #0087ff; text-decoration-color: #0087ff\">Conv1D</span>)                 │ (<span style=\"color: #00d7ff; text-decoration-color: #00d7ff\">None</span>, <span style=\"color: #00af00; text-decoration-color: #00af00\">160</span>, <span style=\"color: #00af00; text-decoration-color: #00af00\">256</span>)       │       <span style=\"color: #00af00; text-decoration-color: #00af00\">196,864</span> │\n",
              "├─────────────────────────────────┼────────────────────────┼───────────────┤\n",
              "│ bidirectional (<span style=\"color: #0087ff; text-decoration-color: #0087ff\">Bidirectional</span>)   │ (<span style=\"color: #00d7ff; text-decoration-color: #00d7ff\">None</span>, <span style=\"color: #00af00; text-decoration-color: #00af00\">160</span>, <span style=\"color: #00af00; text-decoration-color: #00af00\">256</span>)       │       <span style=\"color: #00af00; text-decoration-color: #00af00\">394,240</span> │\n",
              "├─────────────────────────────────┼────────────────────────┼───────────────┤\n",
              "│ global_max_pooling1d            │ (<span style=\"color: #00d7ff; text-decoration-color: #00d7ff\">None</span>, <span style=\"color: #00af00; text-decoration-color: #00af00\">256</span>)            │             <span style=\"color: #00af00; text-decoration-color: #00af00\">0</span> │\n",
              "│ (<span style=\"color: #0087ff; text-decoration-color: #0087ff\">GlobalMaxPooling1D</span>)            │                        │               │\n",
              "├─────────────────────────────────┼────────────────────────┼───────────────┤\n",
              "│ dropout (<span style=\"color: #0087ff; text-decoration-color: #0087ff\">Dropout</span>)               │ (<span style=\"color: #00d7ff; text-decoration-color: #00d7ff\">None</span>, <span style=\"color: #00af00; text-decoration-color: #00af00\">256</span>)            │             <span style=\"color: #00af00; text-decoration-color: #00af00\">0</span> │\n",
              "├─────────────────────────────────┼────────────────────────┼───────────────┤\n",
              "│ dense (<span style=\"color: #0087ff; text-decoration-color: #0087ff\">Dense</span>)                   │ (<span style=\"color: #00d7ff; text-decoration-color: #00d7ff\">None</span>, <span style=\"color: #00af00; text-decoration-color: #00af00\">256</span>)            │        <span style=\"color: #00af00; text-decoration-color: #00af00\">65,792</span> │\n",
              "├─────────────────────────────────┼────────────────────────┼───────────────┤\n",
              "│ dropout_1 (<span style=\"color: #0087ff; text-decoration-color: #0087ff\">Dropout</span>)             │ (<span style=\"color: #00d7ff; text-decoration-color: #00d7ff\">None</span>, <span style=\"color: #00af00; text-decoration-color: #00af00\">256</span>)            │             <span style=\"color: #00af00; text-decoration-color: #00af00\">0</span> │\n",
              "├─────────────────────────────────┼────────────────────────┼───────────────┤\n",
              "│ dense_1 (<span style=\"color: #0087ff; text-decoration-color: #0087ff\">Dense</span>)                 │ (<span style=\"color: #00d7ff; text-decoration-color: #00d7ff\">None</span>, <span style=\"color: #00af00; text-decoration-color: #00af00\">2</span>)              │           <span style=\"color: #00af00; text-decoration-color: #00af00\">514</span> │\n",
              "└─────────────────────────────────┴────────────────────────┴───────────────┘\n",
              "</pre>\n"
            ]
          },
          "metadata": {}
        },
        {
          "output_type": "display_data",
          "data": {
            "text/plain": [
              "\u001b[1m Total params: \u001b[0m\u001b[38;5;34m8,337,410\u001b[0m (31.80 MB)\n"
            ],
            "text/html": [
              "<pre style=\"white-space:pre;overflow-x:auto;line-height:normal;font-family:Menlo,'DejaVu Sans Mono',consolas,'Courier New',monospace\"><span style=\"font-weight: bold\"> Total params: </span><span style=\"color: #00af00; text-decoration-color: #00af00\">8,337,410</span> (31.80 MB)\n",
              "</pre>\n"
            ]
          },
          "metadata": {}
        },
        {
          "output_type": "display_data",
          "data": {
            "text/plain": [
              "\u001b[1m Trainable params: \u001b[0m\u001b[38;5;34m8,337,410\u001b[0m (31.80 MB)\n"
            ],
            "text/html": [
              "<pre style=\"white-space:pre;overflow-x:auto;line-height:normal;font-family:Menlo,'DejaVu Sans Mono',consolas,'Courier New',monospace\"><span style=\"font-weight: bold\"> Trainable params: </span><span style=\"color: #00af00; text-decoration-color: #00af00\">8,337,410</span> (31.80 MB)\n",
              "</pre>\n"
            ]
          },
          "metadata": {}
        },
        {
          "output_type": "display_data",
          "data": {
            "text/plain": [
              "\u001b[1m Non-trainable params: \u001b[0m\u001b[38;5;34m0\u001b[0m (0.00 B)\n"
            ],
            "text/html": [
              "<pre style=\"white-space:pre;overflow-x:auto;line-height:normal;font-family:Menlo,'DejaVu Sans Mono',consolas,'Courier New',monospace\"><span style=\"font-weight: bold\"> Non-trainable params: </span><span style=\"color: #00af00; text-decoration-color: #00af00\">0</span> (0.00 B)\n",
              "</pre>\n"
            ]
          },
          "metadata": {}
        },
        {
          "output_type": "stream",
          "name": "stdout",
          "text": [
            "Epoch 1/20\n",
            "1/1 - 3s - 3s/step - accuracy: 0.5226 - loss: 0.6936 - val_accuracy: 0.5333 - val_loss: 0.6929 - learning_rate: 2.0000e-04\n",
            "Epoch 2/20\n",
            "1/1 - 0s - 205ms/step - accuracy: 0.4527 - loss: 0.6938 - val_accuracy: 0.7000 - val_loss: 0.6924 - learning_rate: 2.0000e-04\n",
            "Epoch 3/20\n",
            "1/1 - 0s - 179ms/step - accuracy: 0.5638 - loss: 0.6918 - val_accuracy: 0.6000 - val_loss: 0.6920 - learning_rate: 2.0000e-04\n",
            "Epoch 4/20\n",
            "1/1 - 0s - 152ms/step - accuracy: 0.5309 - loss: 0.6918 - val_accuracy: 0.6667 - val_loss: 0.6916 - learning_rate: 2.0000e-04\n",
            "Epoch 5/20\n",
            "1/1 - 0s - 148ms/step - accuracy: 0.6049 - loss: 0.6893 - val_accuracy: 0.6000 - val_loss: 0.6912 - learning_rate: 2.0000e-04\n",
            "Epoch 6/20\n",
            "1/1 - 0s - 145ms/step - accuracy: 0.5802 - loss: 0.6898 - val_accuracy: 0.6667 - val_loss: 0.6908 - learning_rate: 2.0000e-04\n"
          ]
        }
      ]
    },
    {
      "cell_type": "markdown",
      "source": [
        "This shows the **Model Evaluation** on the trained model on the test set and summarises the results for the business interpretation. It computes Top-1 accuracy, Macro/Weighted F1, and Top-k accuracy (k=3,5). It also prints a per-class precision/recall/F1 report and plots a confusion matrix and Top-k in a bar chart. These outputs show overall quality and accuracy in this trained model."
      ],
      "metadata": {
        "id": "UXptblhfHuzX"
      }
    },
    {
      "cell_type": "code",
      "source": [
        "from sklearn.metrics import accuracy_score, f1_score, classification_report, confusion_matrix\n",
        "import numpy as np\n",
        "import matplotlib.pyplot as plt\n",
        "\n",
        "# --- Predictions ---\n",
        "# Probabilities (softmax outputs)\n",
        "y_pred_proba = model.predict(X_test, verbose=0)\n",
        "\n",
        "# Top-1\n",
        "y_pred = np.argmax(y_pred_proba, axis=1)\n",
        "\n",
        "# Main metrics\n",
        "acc  = accuracy_score(y_test, y_pred)\n",
        "f1m  = f1_score(y_test, y_pred, average=\"macro\")\n",
        "f1w  = f1_score(y_test, y_pred, average=\"weighted\")\n",
        "print(f\"Test accuracy (Top-1): {acc:.4f} | Macro F1: {f1m:.4f} | Weighted F1: {f1w:.4f}\")\n",
        "\n",
        "#Top-k accuracy\n",
        "def top_k_accuracy(y_true, y_proba, k=3):\n",
        "    top_k = np.argsort(y_proba, axis=1)[:, -k:]  # indices of top-k classes for each row\n",
        "    return np.mean([y_true[i] in top_k[i] for i in range(len(y_true))])\n",
        "\n",
        "top3_acc = top_k_accuracy(y_test, y_pred_proba, k=3)\n",
        "top5_acc = top_k_accuracy(y_test, y_pred_proba, k=5)\n",
        "print(f\"Top-3 Accuracy: {top3_acc:.4f} | Top-5 Accuracy: {top5_acc:.4f}\")\n",
        "\n",
        "# Per-class report\n",
        "labels = np.arange(n_classes)\n",
        "print(\"\\nPer class report:\")\n",
        "print(classification_report(y_test, y_pred, labels=labels, target_names=le.classes_, zero_division=0))\n",
        "\n",
        "# Confusion matrix (no seaborn)\n",
        "cm = confusion_matrix(y_test, y_pred, labels=labels)\n",
        "\n",
        "plt.figure(figsize=(6,6))\n",
        "plt.imshow(cm, interpolation=\"nearest\")\n",
        "plt.title(\"Confusion Matrix\")\n",
        "plt.colorbar()\n",
        "tick_idx = np.arange(n_classes)\n",
        "short_labels = [c[:10] for c in le.classes_]\n",
        "plt.xticks(tick_idx, short_labels, rotation=90)\n",
        "plt.yticks(tick_idx, short_labels)\n",
        "plt.xlabel(\"Predicted\")\n",
        "plt.ylabel(\"True\")\n",
        "plt.tight_layout()\n",
        "plt.show()\n",
        "\n",
        "#Top-k bar chart\n",
        "scores = {\n",
        "    \"Top-1\": acc,\n",
        "    \"Top-3\": top3_acc,\n",
        "    \"Top-5\": top5_acc\n",
        "}\n",
        "\n",
        "plt.figure(figsize=(6,4))\n",
        "plt.bar(list(scores.keys()), list(scores.values()))\n",
        "plt.ylim(0, 1.0)\n",
        "plt.ylabel(\"Accuracy\")\n",
        "plt.title(\"Top-k Accuracy\")\n",
        "for i, (name, val) in enumerate(scores.items()):\n",
        "    plt.text(i, val + 0.02, f\"{val:.2f}\", ha=\"center\", fontsize=10)\n",
        "plt.tight_layout()\n",
        "plt.show()\n",
        "\n",
        "#Tiny bot helper\n",
        "def guess_author(text, top_k=3):\n",
        "    seq = vectorizer(np.array([text])).numpy()\n",
        "    probs = model.predict(seq, verbose=0)[0]\n",
        "    top_idx = probs.argsort()[::-1][:top_k]\n",
        "    return [(le.classes_[i], float(probs[i])) for i in top_idx]\n",
        "\n",
        "print(guess_author(\"It is our choices that show what we truly are, far more than our abilities.\"))\n"
      ],
      "metadata": {
        "colab": {
          "base_uri": "https://localhost:8080/",
          "height": 1000
        },
        "id": "PQiKqWWQc934",
        "outputId": "dd58aa8e-4e47-43cb-9832-183164e7a516"
      },
      "execution_count": null,
      "outputs": [
        {
          "output_type": "stream",
          "name": "stdout",
          "text": [
            "Test accuracy (Top-1): 0.7097 | Macro F1: 0.7048 | Weighted F1: 0.7060\n",
            "Top-3 Accuracy: 1.0000 | Top-5 Accuracy: 1.0000\n",
            "\n",
            "Per class report:\n",
            "                                        precision    recall  f1-score   support\n",
            "\n",
            "                        Gordon Roddick       0.75      0.60      0.67        15\n",
            "Roy T. Bennett, The Light in the Heart       0.68      0.81      0.74        16\n",
            "\n",
            "                              accuracy                           0.71        31\n",
            "                             macro avg       0.72      0.71      0.70        31\n",
            "                          weighted avg       0.72      0.71      0.71        31\n",
            "\n"
          ]
        },
        {
          "output_type": "display_data",
          "data": {
            "text/plain": [
              "<Figure size 600x600 with 2 Axes>"
            ],
            "image/png": "[encoded data removed]"
          },
          "metadata": {}
        },
        {
          "output_type": "display_data",
          "data": {
            "text/plain": [
              "<Figure size 600x400 with 1 Axes>"
            ],
            "image/png": "[encoded data removed]"
          },
          "metadata": {}
        },
        {
          "output_type": "stream",
          "name": "stderr",
          "text": [
            "/usr/local/lib/python3.12/dist-packages/keras/src/layers/layer.py:965: UserWarning: Layer 'conv1d' (of type Conv1D) was passed an input with a mask attached to it. However, this layer does not support masking and will therefore destroy the mask information. Downstream layers will not see the mask.\n",
            "  warnings.warn(\n"
          ]
        },
        {
          "output_type": "stream",
          "name": "stdout",
          "text": [
            "[('Roy T. Bennett, The Light in the Heart', 0.5008530616760254), ('Gordon Roddick', 0.4991469085216522)]\n"
          ]
        }
      ]
    },
    {
      "cell_type": "markdown",
      "source": [
        "This just shows the Top-k scores more clearly instead of in the per-class report"
      ],
      "metadata": {
        "id": "SROWwv69IvlB"
      }
    },
    {
      "cell_type": "code",
      "source": [
        "import numpy as np\n",
        "from sklearn.metrics import accuracy_score\n",
        "\n",
        "\n",
        "def top_k_accuracy(y_true, y_proba, k=3):\n",
        "    \"\"\"Calculate top-k accuracy.\"\"\"\n",
        "    top_k_preds = np.argsort(y_proba, axis=1)[:, -k:]  # top k indices for each row\n",
        "    match = [y_true[i] in top_k_preds[i] for i in range(len(y_true))]\n",
        "    return np.mean(match)\n",
        "\n",
        "# Standard accuracy (top-1)\n",
        "acc = accuracy_score(y_test, y_pred)\n",
        "print(f\"Top-1 Accuracy: {acc:.4f}\")\n",
        "\n",
        "# Top-3 and Top-5\n",
        "top3_acc = top_k_accuracy(y_test, y_pred_proba, k=3)\n",
        "top5_acc = top_k_accuracy(y_test, y_pred_proba, k=5)\n",
        "\n",
        "print(f\"Top-3 Accuracy: {top3_acc:.4f}\")\n",
        "print(f\"Top-5 Accuracy: {top5_acc:.4f}\")\n"
      ],
      "metadata": {
        "colab": {
          "base_uri": "https://localhost:8080/"
        },
        "id": "asmrbGV-Z2A2",
        "outputId": "b7914dc9-a2b7-4888-8daa-68c5d38335ae"
      },
      "execution_count": null,
      "outputs": [
        {
          "output_type": "stream",
          "name": "stdout",
          "text": [
            "Top-1 Accuracy: 0.7097\n",
            "Top-3 Accuracy: 1.0000\n",
            "Top-5 Accuracy: 1.0000\n"
          ]
        }
      ]
    },
    {
      "cell_type": "markdown",
      "source": [
        "References:\n",
        "\n",
        "1. Analytics Vidhya (2019). A Comprehensive Guide to Understand and Implement Text Classification in Python. [online] Analytics Vidhya. Available at: https://www.analyticsvidhya.com/blog/2018/04/a-comprehensive-guide-to-understand-and-implement-text-classification-in-python/. [Accessed: 26 September 2025]\n",
        "2. Nissa, N.K. (2022). Text Messages Classification using LSTM, Bi-LSTM, and GRU. [online] Medium. Available at: https://nzlul.medium.com/the-classification-of-text-messages-using-lstm-bi-lstm-and-gru-f79b207f90ad.[Accessed: 27 September 2025]\n",
        "3. TensorFlow. (n.d.). Text classification with an RNN. [online] Available at: https://www.tensorflow.org/text/tutorials/text_classification_rnn. [Accessed: 22 September 2025]"
      ],
      "metadata": {
        "id": "o_01pIT3XwUF"
      }
    }
  ]
}